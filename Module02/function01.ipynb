{
 "cells": [
  {
   "cell_type": "code",
   "execution_count": 11,
   "metadata": {},
   "outputs": [
    {
     "data": {
      "image/png": "[encoded data removed]",
      "text/plain": [
       "<matplotlib.figure.Figure at 0x7f506672a400>"
      ]
     },
     "metadata": {},
     "output_type": "display_data"
    }
   ],
   "source": [
    "from matplotlib import pyplot as plt\n",
    "import numpy as np\n",
    "def expo (x):\n",
    "    return 2 ** x\n",
    "\n",
    "\n",
    "\n",
    "x = [-2,-1.5,-1,-0.5,0,0.5,1,1.5,2,2.5,3]\n",
    "\n",
    "y = [expo(i) for i in x]\n",
    "\n",
    "plt.xlabel('x         ')\n",
    "plt.ylabel('expo(x)')\n",
    "plt.grid()\n",
    "\n",
    "plt.plot(x,y, color='green')\n",
    "\n",
    "plt.show()"
   ]
  },
  {
   "cell_type": "code",
   "execution_count": null,
   "metadata": {},
   "outputs": [],
   "source": [
    "written is a function of  f(x) = 2^x"
   ]
  },
  {
   "cell_type": "code",
   "execution_count": 49,
   "metadata": {},
   "outputs": [
    {
     "name": "stdout",
     "output_type": "stream",
     "text": [
      "[-8.0, -5.359375, -3.375, -1.953125, -1.0, -0.421875, -0.125, -0.015625, 0.0, 0.015625, 0.125, 0.421875, 1.0, 1.953125, 3.375, 5.359375]\n",
      "[-2.0, -1.75, -1.5, -1.25, -1.0, -0.75, -0.5, -0.25, 0.0, 0.25, 0.5, 0.75, 1.0, 1.25, 1.5, 1.75]\n",
      "-2.00  -8.00\n",
      "-1.75  -5.36\n",
      "-1.50  -3.38\n",
      "-1.25  -1.95\n",
      "-1.00  -1.00\n",
      "-0.75  -0.42\n",
      "-0.50  -0.12\n",
      "-0.25  -0.02\n",
      "0.00  0.00\n",
      "0.25  0.02\n",
      "0.50  0.12\n",
      "0.75  0.42\n",
      "1.00  1.00\n",
      "1.25  1.95\n",
      "1.50  3.38\n",
      "1.75  5.36\n"
     ]
    },
    {
     "data": {
      "image/png": "[encoded data removed]",
      "text/plain": [
       "<matplotlib.figure.Figure at 0x7f5066476c88>"
      ]
     },
     "metadata": {},
     "output_type": "display_data"
    }
   ],
   "source": [
    "from matplotlib import pyplot as plt\n",
    "import numpy as np\n",
    "\n",
    "def expo3 (X):\n",
    "    for i in range (0 , len(X)):\n",
    "        X[i]=X[i]  **3    \n",
    "    return X\n",
    "\n",
    "def listconverter(x, coef):\n",
    "    for i in range(0,len(x)):\n",
    "        x[i]= (x[i])*coef\n",
    "    return x\n",
    "\n",
    "def showTable(x,y):\n",
    "    for i in range(len(x)):\n",
    "        print(\"%3.2f  %3.2f\" % (x[i],y[i]))\n",
    "    \n",
    "x=list(range(-8,8))\n",
    "x = listconverter(x ,0.25)\n",
    "y=list(x)\n",
    "y = list(expo3(y))\n",
    "\n",
    "showTable(x,y)\n",
    "\n",
    "plt.ylabel=\"f(x)\"\n",
    "plt.xlabel=\"x\"\n",
    "plt.grid()\n",
    "plt.plot(x,y)\n",
    "plt.show()"
   ]
  },
  {
   "cell_type": "code",
   "execution_count": null,
   "metadata": {},
   "outputs": [],
   "source": []
  },
  {
   "cell_type": "code",
   "execution_count": null,
   "metadata": {},
   "outputs": [],
   "source": []
  }
 ],
 "metadata": {
  "kernelspec": {
   "display_name": "Python 3",
   "language": "python",
   "name": "python3"
  },
  "language_info": {
   "codemirror_mode": {
    "name": "ipython",
    "version": 3
   },
   "file_extension": ".py",
   "mimetype": "text/x-python",
   "name": "python",
   "nbconvert_exporter": "python",
   "pygments_lexer": "ipython3",
   "version": "3.6.4"
  }
 },
 "nbformat": 4,
 "nbformat_minor": 2
}
