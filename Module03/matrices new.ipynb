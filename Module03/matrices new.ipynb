{
 "cells": [
  {
   "cell_type": "code",
   "execution_count": 49,
   "metadata": {},
   "outputs": [],
   "source": [
    "import numpy as np\n",
    "def showProduct(ma1,ma2):\n",
    "    print(ma1)\n",
    "    print(\"*\")\n",
    "    print(ma2)\n",
    "    print(\"=\")\n",
    "    print(ma1 @ ma2)\n",
    "\n",
    "def showProductM(ma1,ma2): # when 2 is a vector to be transposed\n",
    "    print(ma1)\n",
    "    print(\"*\")\n",
    "    print(ma2)\n",
    "    print(\"=\")\n",
    "    print(np.matmul(ma1 ,np.transpose(ma2)))"
   ]
  },
  {
   "cell_type": "code",
   "execution_count": 50,
   "metadata": {},
   "outputs": [],
   "source": [
    "function= np.array([[1,2,0],[3,0,-1]])\n",
    "functionM= np.matrix([[1,2,0],[3,0,-1]])\n",
    "a= np.array([2,-1,6])\n",
    "b= np.array([-4,2,-12])\n",
    "c= np.array([1,4,1])\n",
    "d= np.array([4,-2,1])\n"
   ]
  },
  {
   "cell_type": "code",
   "execution_count": 51,
   "metadata": {},
   "outputs": [
    {
     "name": "stdout",
     "output_type": "stream",
     "text": [
      "[[ 1  2  0]\n",
      " [ 3  0 -1]]\n",
      "*\n",
      "[ 2 -1  6]\n",
      "=\n",
      "[0 0]\n",
      "[ 2 -1  6]\n",
      "*\n",
      "[[ 1  2  0]\n",
      " [ 3  0 -1]]\n",
      "=\n",
      "[0 0]\n",
      "[[ 1  2  0]\n",
      " [ 3  0 -1]]\n",
      "*\n",
      "[ 4 -2  1]\n",
      "=\n",
      "[ 0 11]\n"
     ]
    }
   ],
   "source": [
    "showProduct(function,a)\n",
    "showProductM(a, function)\n",
    "#showProduct(function,b)\n",
    "#showProduct(function,c)\n",
    "showProduct(function,d)"
   ]
  },
  {
   "cell_type": "code",
   "execution_count": 57,
   "metadata": {},
   "outputs": [
    {
     "name": "stdout",
     "output_type": "stream",
     "text": [
      "[[ 1  0 -1]\n",
      " [ 2  3  4]]\n",
      "*\n",
      "[[3 0 1]\n",
      " [0 0 1]\n",
      " [2 6 0]]\n",
      "=\n",
      "[[ 1 -6  1]\n",
      " [14 24  5]]\n"
     ]
    }
   ],
   "source": [
    "mx=np.matrix([[1,0,-1],[2,3,4]])\n",
    "my=np.matrix([[3,0,1],[0,0,1],[2,6,0]])\n",
    "\n",
    "showProduct(mx,my)"
   ]
  },
  {
   "cell_type": "code",
   "execution_count": 62,
   "metadata": {},
   "outputs": [
    {
     "name": "stdout",
     "output_type": "stream",
     "text": [
      "[[1]\n",
      " [3]\n",
      " [5]]\n",
      "[[1 3 5]]\n",
      "[[35]]\n"
     ]
    }
   ],
   "source": [
    "v= np.array([[1],[3],[5]])\n",
    "vt = np.transpose(v)\n",
    "print(v)\n",
    "print(vt)\n",
    "print(vt @ v)"
   ]
  },
  {
   "cell_type": "code",
   "execution_count": 63,
   "metadata": {},
   "outputs": [
    {
     "data": {
      "text/plain": [
       "array([[ 1,  3,  5],\n",
       "       [ 3,  9, 15],\n",
       "       [ 5, 15, 25]])"
      ]
     },
     "execution_count": 63,
     "metadata": {},
     "output_type": "execute_result"
    }
   ],
   "source": [
    "v @ vt"
   ]
  }
 ],
 "metadata": {
  "kernelspec": {
   "display_name": "Python 3",
   "language": "python",
   "name": "python3"
  },
  "language_info": {
   "codemirror_mode": {
    "name": "ipython",
    "version": 3
   },
   "file_extension": ".py",
   "mimetype": "text/x-python",
   "name": "python",
   "nbconvert_exporter": "python",
   "pygments_lexer": "ipython3",
   "version": "3.6.4"
  }
 },
 "nbformat": 4,
 "nbformat_minor": 2
}
